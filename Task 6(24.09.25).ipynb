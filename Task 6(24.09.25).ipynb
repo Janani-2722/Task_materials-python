{
 "cells": [
  {
   "cell_type": "code",
   "execution_count": 45,
   "id": "8e9c5fd3-f6f3-40f3-9fc4-1b834a57c26f",
   "metadata": {},
   "outputs": [
    {
     "name": "stdout",
     "output_type": "stream",
     "text": [
      "[[2, 33, 28, 0, 23, 19], [19, 5, 27, 14, 50, 7], [3, 41, 31, 49, 26, 12], [26, 49, 29, 41, 47, 40], [16, 3, 20, 14, 17, 12], [39, 19, 34, 22, 49, 32]]\n"
     ]
    }
   ],
   "source": [
    "\n",
    "\n",
    "from random import sample\n",
    "n = []\n",
    "ticket = range(0,51)\n",
    "\n",
    "for i in range(6):\n",
    "    tickets = sample(ticket,6)\n",
    "    n.append(tickets)\n",
    "    i+=1\n",
    "print(n)\n"
   ]
  },
  {
   "cell_type": "code",
   "execution_count": 58,
   "id": "f4fac7ce-2b21-4031-a10f-01253c9d78f8",
   "metadata": {},
   "outputs": [
    {
     "name": "stdout",
     "output_type": "stream",
     "text": [
      "The lottery ticket for Jeni Matthew: [32, 41, 36, 35, 16, 34]\n",
      "The lottery ticket for Maya John: [19, 4, 48, 6, 34, 24]\n",
      "The lottery ticket for Angel Magline: [14, 35, 29, 31, 42, 26]\n",
      "The lottery ticket for Glory Doe: [5, 27, 44, 43, 28, 16]\n",
      "The lottery ticket for David Smith: [5, 26, 22, 11, 45, 9]\n",
      "The lottery ticket for Jane Johnson: [21, 38, 11, 18, 13, 26]\n"
     ]
    }
   ],
   "source": [
    "# Use random.sample() to generate a set of 6 unique numbers for a lottery ticket. \n",
    "# Store multiple tickets in a list, and then put them in a dictionary with keys as player names (tuples of first, last name).\n",
    "\n",
    "from random import sample\n",
    "n = []\n",
    "ticket = range(1,51)\n",
    "\n",
    "for i in range(6):\n",
    "    tickets = sample(ticket,6)\n",
    "    n.append(tickets)\n",
    "    # i+=1\n",
    "lottery_ticket = { ('Jeni','Matthew'): n[0],\n",
    "                   ('Maya','John'): n[1],\n",
    "                   ('Angel','Magline'): n[2],\n",
    "                   ('Glory','Doe'): n[3],\n",
    "                   ('David','Smith'): n[4],\n",
    "                   ('Jane','Johnson'): n[5]\n",
    "                   }\n",
    "# print(lottery_ticket)\n",
    "for player_name, ticket in lottery_ticket.items():\n",
    "    print(f\"The lottery ticket for {player_name[0]} {player_name[1]}: {ticket}\")"
   ]
  },
  {
   "cell_type": "code",
   "execution_count": null,
   "id": "f11c8732-53c4-46ab-90b4-5010a0b234e2",
   "metadata": {},
   "outputs": [],
   "source": []
  }
 ],
 "metadata": {
  "kernelspec": {
   "display_name": "Python 3 (ipykernel)",
   "language": "python",
   "name": "python3"
  },
  "language_info": {
   "codemirror_mode": {
    "name": "ipython",
    "version": 3
   },
   "file_extension": ".py",
   "mimetype": "text/x-python",
   "name": "python",
   "nbconvert_exporter": "python",
   "pygments_lexer": "ipython3",
   "version": "3.13.7"
  }
 },
 "nbformat": 4,
 "nbformat_minor": 5
}
