{
 "cells": [
  {
   "cell_type": "code",
   "execution_count": 8,
   "id": "0307f5b2-5caf-454e-92a6-29489c2b5376",
   "metadata": {},
   "outputs": [
    {
     "name": "stdin",
     "output_type": "stream",
     "text": [
      "Enter a number:  3\n",
      "Enter a number:  2\n",
      "Which calculation you want to try?(addition, subtraction, multiplication or division) Add\n"
     ]
    },
    {
     "name": "stdout",
     "output_type": "stream",
     "text": [
      "Addition of two numbers: 5.0\n"
     ]
    }
   ],
   "source": [
    "# Build a calculator with match...case to perform addition, subtraction, multiplication, and division.\n",
    "\n",
    "a = float(input(\"Enter a number: \"))\n",
    "b = float(input(\"Enter a number: \"))\n",
    "calculator = input(\"Which calculation you want to try?(addition, subtraction, multiplication or division)\")\n",
    "\n",
    "match calculator:\n",
    "    case \"addition\"|\"add\"|\"Addition\"|\"Add\" :\n",
    "        print(f\"Addition of two numbers: {a+b}\")\n",
    "    case \"subtract\"|\"subtraction\"|\"Subtraction\"|\"Subtract\":\n",
    "        print(f\"Subtraction of two numbers: {a-b}\")\n",
    "    case \"multiply\"|\" multiplication\"|\"Multiply\"|\"Multiplication\":\n",
    "        print(f\"Multiplication of two numbers: {a*b}\")\n",
    "    case \"divide\"|\"division\"|\"Divide\"|\"Division\":\n",
    "        print(f\"Division of two numbers: {a/b}\")\n",
    "    case _:\n",
    "        print(\"Invalid Operation\")\n",
    "        "
   ]
  },
  {
   "cell_type": "code",
   "execution_count": null,
   "id": "d8cabf21-828a-493a-ad10-b595e8c09013",
   "metadata": {},
   "outputs": [],
   "source": []
  }
 ],
 "metadata": {
  "kernelspec": {
   "display_name": "Python 3 (ipykernel)",
   "language": "python",
   "name": "python3"
  },
  "language_info": {
   "codemirror_mode": {
    "name": "ipython",
    "version": 3
   },
   "file_extension": ".py",
   "mimetype": "text/x-python",
   "name": "python",
   "nbconvert_exporter": "python",
   "pygments_lexer": "ipython3",
   "version": "3.13.7"
  }
 },
 "nbformat": 4,
 "nbformat_minor": 5
}
