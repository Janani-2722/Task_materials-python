{
 "cells": [
  {
   "cell_type": "code",
   "execution_count": 62,
   "id": "96dd5240-cbe7-4c57-99ff-2bf1d0784301",
   "metadata": {},
   "outputs": [
    {
     "name": "stdin",
     "output_type": "stream",
     "text": [
      "enter a number:  4\n"
     ]
    },
    {
     "name": "stdout",
     "output_type": "stream",
     "text": [
      "The square of the number is:  16\n",
      "Program runs successfully!\n"
     ]
    }
   ],
   "source": [
    "# 2. Accept an integer from the user and print its square. Use try..else to handle invalid inputs.\n",
    "try:\n",
    "    User = input(\"enter a number: \")\n",
    "    \n",
    "    if not User:\n",
    "        raise ValueError(\"Input should not be empty\")\n",
    "\n",
    "    if User.isalpha():  #isalpha() check for all characters in a string are alphabetic(A-Z)(a-z). isalnum checks for alphanumeric(A-Z,0-9)\n",
    "        raise ValueError(\"Enter a valid integer!\")\n",
    "    \n",
    "    n= int(User)\n",
    "    num = n * n \n",
    "    print(\"The square of the number is: \", num)\n",
    "\n",
    "except ValueError as e:\n",
    "    print(f\"Error:{e}\")\n",
    "    \n",
    "except Exception as e:\n",
    "    print(\"Unexpected error: \",e) \n",
    "\n",
    "else:\n",
    "    print(\"Program runs successfully!\")"
   ]
  },
  {
   "cell_type": "code",
   "execution_count": null,
   "id": "d6cb1107-58d8-4cfb-bb12-1b5607c692d5",
   "metadata": {},
   "outputs": [],
   "source": []
  }
 ],
 "metadata": {
  "kernelspec": {
   "display_name": "Python 3 (ipykernel)",
   "language": "python",
   "name": "python3"
  },
  "language_info": {
   "codemirror_mode": {
    "name": "ipython",
    "version": 3
   },
   "file_extension": ".py",
   "mimetype": "text/x-python",
   "name": "python",
   "nbconvert_exporter": "python",
   "pygments_lexer": "ipython3",
   "version": "3.13.7"
  }
 },
 "nbformat": 4,
 "nbformat_minor": 5
}
