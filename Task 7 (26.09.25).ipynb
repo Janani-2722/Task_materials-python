{
 "cells": [
  {
   "cell_type": "code",
   "execution_count": 8,
   "id": "22ab5d30-069f-4b04-86c3-a0b9eca51a20",
   "metadata": {},
   "outputs": [
    {
     "name": "stdout",
     "output_type": "stream",
     "text": [
      "Name : Janani\n",
      "Age : 24\n",
      "Course : AI/ML\n",
      "Duration : 6 Months\n"
     ]
    }
   ],
   "source": [
    "# 2. Write a function describe_person that takes any number of keyword arguments and prints them in the format:\n",
    "# key: value.\n",
    "# person_info = {'Name':'Janani', 'Age' : 24, 'Course': 'AI/ML','Duration': '6 Months'}\n",
    "def describe_person(**p):\n",
    "     for i,j in p.items(): \n",
    "        print(f\"{i} : {j}\")\n",
    "    \n",
    "describe_person(Name = 'Janani', Age = 24, Course = 'AI/ML', Duration = '6 Months')\n",
    "    "
   ]
  },
  {
   "cell_type": "code",
   "execution_count": null,
   "id": "7d31cde6-36f4-41f1-ba54-b8e3fa18b9a9",
   "metadata": {},
   "outputs": [],
   "source": []
  }
 ],
 "metadata": {
  "kernelspec": {
   "display_name": "Python 3 (ipykernel)",
   "language": "python",
   "name": "python3"
  },
  "language_info": {
   "codemirror_mode": {
    "name": "ipython",
    "version": 3
   },
   "file_extension": ".py",
   "mimetype": "text/x-python",
   "name": "python",
   "nbconvert_exporter": "python",
   "pygments_lexer": "ipython3",
   "version": "3.13.7"
  }
 },
 "nbformat": 4,
 "nbformat_minor": 5
}
