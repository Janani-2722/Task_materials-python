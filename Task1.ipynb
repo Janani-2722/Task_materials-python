{
 "cells": [
  {
   "cell_type": "code",
   "execution_count": 9,
   "id": "2b478cc0-f325-43b5-a7e8-acb632ef3682",
   "metadata": {},
   "outputs": [
    {
     "name": "stdout",
     "output_type": "stream",
     "text": [
      "Janani\n"
     ]
    }
   ],
   "source": [
    "#print a statement\n",
    "print(\"Janani\")"
   ]
  },
  {
   "cell_type": "code",
   "execution_count": 10,
   "id": "a949a684-03bc-493d-91ef-b08c22f7ffc0",
   "metadata": {},
   "outputs": [
    {
     "name": "stdout",
     "output_type": "stream",
     "text": [
      "Janani\n"
     ]
    }
   ],
   "source": [
    "#variables\n",
    "name = \"Janani\"\n",
    "print(name)"
   ]
  },
  {
   "cell_type": "code",
   "execution_count": 7,
   "id": "7333051f-1f8c-4b74-bc72-0baa00f7f86a",
   "metadata": {},
   "outputs": [
    {
     "name": "stdout",
     "output_type": "stream",
     "text": [
      "<class 'str'>\n",
      "<class 'int'>\n",
      "<class 'complex'>\n"
     ]
    }
   ],
   "source": [
    "# find the type\n",
    "name = \"Janani\"\n",
    "age = 23\n",
    "complex_value = 2j\n",
    "print(type(name))\n",
    "print(type(age))\n",
    "print(type(complex_value))"
   ]
  },
  {
   "cell_type": "code",
   "execution_count": 8,
   "id": "bd219079-42aa-493b-9bd4-4c1aea2aa508",
   "metadata": {},
   "outputs": [
    {
     "name": "stdout",
     "output_type": "stream",
     "text": [
      "23.0\n",
      "23\n"
     ]
    }
   ],
   "source": [
    "# converting data type\n",
    "age = 23\n",
    "print(float(age))\n",
    "\n",
    "age = '23'\n",
    "print(int(age))"
   ]
  },
  {
   "cell_type": "code",
   "execution_count": 14,
   "id": "d6b44b30-1507-40f9-bfb6-1d6c0efe0bbb",
   "metadata": {},
   "outputs": [
    {
     "name": "stdout",
     "output_type": "stream",
     "text": [
      "False\n",
      "True\n",
      "False\n"
     ]
    }
   ],
   "source": [
    "#boolean\n",
    "print(bool(0))\n",
    "print(bool(10))\n",
    "print(bool())"
   ]
  },
  {
   "cell_type": "code",
   "execution_count": 15,
   "id": "ae4865b7-00d2-4308-8fa7-a212a44281fc",
   "metadata": {},
   "outputs": [
    {
     "data": {
      "text/plain": [
       "' This is the task file.\\nAs it contains the task which we learned from the session'"
      ]
     },
     "execution_count": 15,
     "metadata": {},
     "output_type": "execute_result"
    }
   ],
   "source": [
    "#docstring\n",
    "\"\"\" This is the task file.\n",
    "As it contains the task which we learned from the session\"\"\""
   ]
  },
  {
   "cell_type": "code",
   "execution_count": 16,
   "id": "75028750-caeb-4eb4-9351-ed0e665d78f9",
   "metadata": {},
   "outputs": [
    {
     "name": "stdout",
     "output_type": "stream",
     "text": [
      "7\n",
      "-1\n",
      "12\n",
      "0.75\n",
      "3\n",
      "81\n",
      "0\n"
     ]
    }
   ],
   "source": [
    "#Operators\n",
    "#Arithematic operator\n",
    "a = 3\n",
    "b = 4\n",
    "print(a+b)\n",
    "print(a-b)\n",
    "print(a*b)\n",
    "print(a/b)\n",
    "print(a%b) \n",
    "print(a**b) \n",
    "print(a//b)"
   ]
  },
  {
   "cell_type": "code",
   "execution_count": 17,
   "id": "1efa4336-a5fe-4b75-b8f0-2e986c762695",
   "metadata": {},
   "outputs": [
    {
     "name": "stdout",
     "output_type": "stream",
     "text": [
      "7\n",
      "4\n"
     ]
    }
   ],
   "source": [
    "#Assignment operator\n",
    "a = 4\n",
    "b = 3\n",
    "a += b \n",
    "print(a)\n",
    "a-=b \n",
    "print(a)"
   ]
  },
  {
   "cell_type": "code",
   "execution_count": 18,
   "id": "60fcb955-2bc5-44ba-960f-90bbcc777050",
   "metadata": {},
   "outputs": [
    {
     "name": "stdout",
     "output_type": "stream",
     "text": [
      "False\n",
      "True\n"
     ]
    }
   ],
   "source": [
    "#Comparison operator\n",
    "a = 5\n",
    "b = 6\n",
    "print(a==b)\n",
    "print(a!=b)"
   ]
  },
  {
   "cell_type": "code",
   "execution_count": 19,
   "id": "4ed234e7-4706-4ef4-9f2b-342d6c3ed61c",
   "metadata": {},
   "outputs": [
    {
     "name": "stdout",
     "output_type": "stream",
     "text": [
      "False\n",
      "True\n"
     ]
    }
   ],
   "source": [
    "#Logical operator\n",
    "a= 10\n",
    "print(a < 5 and a > 6)\n",
    "print(a < 5 or a >7)"
   ]
  },
  {
   "cell_type": "code",
   "execution_count": 20,
   "id": "f105a33e-cb31-4557-8f49-0dd4cc66e1f6",
   "metadata": {},
   "outputs": [
    {
     "name": "stdout",
     "output_type": "stream",
     "text": [
      "False\n",
      "True\n"
     ]
    }
   ],
   "source": [
    "#Identity operators \n",
    "# b = a = [1,2,3]\n",
    "a = [1,2,3]\n",
    "b = [1,2,3]\n",
    "print(a is b)\n",
    "print(a is not b)"
   ]
  },
  {
   "cell_type": "code",
   "execution_count": 21,
   "id": "efbf5131-4511-4f8d-afd2-b0f2872ae8b8",
   "metadata": {},
   "outputs": [
    {
     "name": "stdout",
     "output_type": "stream",
     "text": [
      "True\n",
      "True\n"
     ]
    }
   ],
   "source": [
    "#Membership operator\n",
    "a = [1,2,3,4,5]\n",
    "print( 4 in a)\n",
    "print(6 not in a)"
   ]
  },
  {
   "cell_type": "code",
   "execution_count": 22,
   "id": "288dd1dd-a004-4dc6-8852-4c697bb73044",
   "metadata": {},
   "outputs": [
    {
     "name": "stdout",
     "output_type": "stream",
     "text": [
      "18\n",
      "25\n",
      "9\n",
      "-46\n",
      "272\n",
      "7\n"
     ]
    }
   ],
   "source": [
    "#Bitwise operator\n",
    "print(26 & 23)\n",
    "print(17 | 24)\n",
    "print(17 ^ 24)\n",
    "print(~45)\n",
    "print( 68 << 2)\n",
    "print( 56 >>3)"
   ]
  },
  {
   "cell_type": "code",
   "execution_count": null,
   "id": "af571475-9bfd-4a5a-843d-1ba6b7bbbe8e",
   "metadata": {},
   "outputs": [],
   "source": []
  }
 ],
 "metadata": {
  "kernelspec": {
   "display_name": "Python 3 (ipykernel)",
   "language": "python",
   "name": "python3"
  },
  "language_info": {
   "codemirror_mode": {
    "name": "ipython",
    "version": 3
   },
   "file_extension": ".py",
   "mimetype": "text/x-python",
   "name": "python",
   "nbconvert_exporter": "python",
   "pygments_lexer": "ipython3",
   "version": "3.13.7"
  }
 },
 "nbformat": 4,
 "nbformat_minor": 5
}
