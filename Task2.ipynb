{
 "cells": [
  {
   "cell_type": "code",
   "execution_count": 15,
   "id": "d1b1d0ec-71d0-4d03-a44b-111ffc9d70d1",
   "metadata": {},
   "outputs": [
    {
     "name": "stdin",
     "output_type": "stream",
     "text": [
      "Which multiplication table you want?  24\n"
     ]
    },
    {
     "name": "stdout",
     "output_type": "stream",
     "text": [
      "1 * 24 = 24\n",
      "2 * 24 = 48\n",
      "3 * 24 = 72\n",
      "4 * 24 = 96\n",
      "5 * 24 = 120\n",
      "6 * 24 = 144\n",
      "7 * 24 = 168\n",
      "8 * 24 = 192\n",
      "9 * 24 = 216\n",
      "10 * 24 = 240\n",
      "11 * 24 = 264\n",
      "12 * 24 = 288\n",
      "13 * 24 = 312\n",
      "14 * 24 = 336\n",
      "15 * 24 = 360\n",
      "16 * 24 = 384\n",
      "17 * 24 = 408\n",
      "18 * 24 = 432\n",
      "19 * 24 = 456\n",
      "20 * 24 = 480\n"
     ]
    }
   ],
   "source": [
    "# Print the multiplication table of a given number (say 7) using a while loop.\n",
    "num = int(input(\"Which multiplication table you want? \")) # Not only 7, we can do for any number upto 20.\n",
    "count = 0\n",
    "while count < 20:\n",
    "    count += 1\n",
    "    total = count * num\n",
    "    print(f\"{count} * {num} = {total}\")"
   ]
  },
  {
   "cell_type": "code",
   "execution_count": null,
   "id": "3cea402c-8ff2-4026-9780-6440da6d61be",
   "metadata": {},
   "outputs": [],
   "source": []
  }
 ],
 "metadata": {
  "kernelspec": {
   "display_name": "Python 3 (ipykernel)",
   "language": "python",
   "name": "python3"
  },
  "language_info": {
   "codemirror_mode": {
    "name": "ipython",
    "version": 3
   },
   "file_extension": ".py",
   "mimetype": "text/x-python",
   "name": "python",
   "nbconvert_exporter": "python",
   "pygments_lexer": "ipython3",
   "version": "3.13.7"
  }
 },
 "nbformat": 4,
 "nbformat_minor": 5
}
