{
 "cells": [
  {
   "cell_type": "code",
   "execution_count": 16,
   "id": "d1b1d0ec-71d0-4d03-a44b-111ffc9d70d1",
   "metadata": {},
   "outputs": [
    {
     "name": "stdin",
     "output_type": "stream",
     "text": [
      "Which multiplication table you want?  7\n"
     ]
    },
    {
     "name": "stdout",
     "output_type": "stream",
     "text": [
      "1 * 7 = 7\n",
      "2 * 7 = 14\n",
      "3 * 7 = 21\n",
      "4 * 7 = 28\n",
      "5 * 7 = 35\n",
      "6 * 7 = 42\n",
      "7 * 7 = 49\n",
      "8 * 7 = 56\n",
      "9 * 7 = 63\n",
      "10 * 7 = 70\n",
      "11 * 7 = 77\n",
      "12 * 7 = 84\n",
      "13 * 7 = 91\n",
      "14 * 7 = 98\n",
      "15 * 7 = 105\n",
      "16 * 7 = 112\n",
      "17 * 7 = 119\n",
      "18 * 7 = 126\n",
      "19 * 7 = 133\n",
      "20 * 7 = 140\n"
     ]
    }
   ],
   "source": [
    "# Print the multiplication table of a given number (say 7) using a while loop.\n",
    "num = int(input(\"Which multiplication table you want? \")) # Not only 7, we can do for any number upto 20.\n",
    "count = 0\n",
    "while count < 20:\n",
    "    count += 1\n",
    "    total = count * num\n",
    "    print(f\"{count} * {num} = {total}\")"
   ]
  },
  {
   "cell_type": "code",
   "execution_count": null,
   "id": "3cea402c-8ff2-4026-9780-6440da6d61be",
   "metadata": {},
   "outputs": [],
   "source": []
  }
 ],
 "metadata": {
  "kernelspec": {
   "display_name": "Python 3 (ipykernel)",
   "language": "python",
   "name": "python3"
  },
  "language_info": {
   "codemirror_mode": {
    "name": "ipython",
    "version": 3
   },
   "file_extension": ".py",
   "mimetype": "text/x-python",
   "name": "python",
   "nbconvert_exporter": "python",
   "pygments_lexer": "ipython3",
   "version": "3.13.7"
  }
 },
 "nbformat": 4,
 "nbformat_minor": 5
}
